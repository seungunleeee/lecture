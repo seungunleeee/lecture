"""
functions vs method
"""
#function
def my_function(x):
    return x+1
my_function(1)
y=3
my_function(y)
#method :클래스 내에 정의된 함수


x=1

class my_class:
    def my_method(self):
        return x+1

cls = my_class()
print(cls.my_method())



"""
return keyword
"""
#leap year: 윤년 (2월 29일까지)

def check_leap_year(year):
    if year %4==0:
        return str(year)+" is a leap year."
    else:
        return str(year)+" is a not leap year."

result=check_leap_year(2020)
print(result)


"""
Global variables
"""



def prints_a():
    b="hello"
    print(b)
    
prints_a()




"""

"""
def findvolume(height,width,depth=3):
    print("Height="+str(height))
    print("width="+str(width))
    print("depth="+str(depth))
    return height*width*depth

print(findvolume(1,2,3))
print(findvolume(2,1,3))
print(findvolume(width=2,height=1))
