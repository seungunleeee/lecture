{
 "cells": [
  {
   "cell_type": "code",
   "execution_count": 3,
   "id": "23e99a7f-c9c3-4662-bc43-49e1894cf012",
   "metadata": {},
   "outputs": [
    {
     "name": "stdout",
     "output_type": "stream",
     "text": [
      "2\n"
     ]
    }
   ],
   "source": [
    "\"\"\"\n",
    "functions vs method\n",
    "\"\"\"\n",
    "#function\n",
    "def my_function(x):\n",
    "    return x+1\n",
    "my_function(1)\n",
    "y=3\n",
    "my_function(y)\n",
    "#method :클래스 내에 정의된 함수\n",
    "\n",
    "\n",
    "x=1\n",
    "\n",
    "class my_class:\n",
    "    def my_method(self):\n",
    "        return x+1\n",
    "\n",
    "cls = my_class()\n",
    "print(cls.my_method())\n",
    "\n"
   ]
  },
  {
   "cell_type": "code",
   "execution_count": 7,
   "id": "ea65a81e-0601-4357-a6a9-905a2f2db297",
   "metadata": {},
   "outputs": [
    {
     "name": "stdout",
     "output_type": "stream",
     "text": [
      "2020 is a leap year.\n"
     ]
    }
   ],
   "source": [
    "\"\"\"\n",
    "return keyword\n",
    "\"\"\"\n",
    "#leap year: 윤년 (2월 29일까지)\n",
    "\n",
    "def check_leap_year(year):\n",
    "    if year %4==0:\n",
    "        return str(year)+\" is a leap year.\"\n",
    "    else:\n",
    "        return str(year)+\" is a not leap year.\"\n",
    "\n",
    "result=check_leap_year(2020)\n",
    "print(result)"
   ]
  },
  {
   "cell_type": "code",
   "execution_count": 14,
   "id": "cd8d0949-7acb-4b9c-9cc4-fe9c7b7a9a6f",
   "metadata": {},
   "outputs": [
    {
     "name": "stdout",
     "output_type": "stream",
     "text": [
      "9 16 25\n"
     ]
    }
   ],
   "source": [
    "\"\"\"\n",
    "returning Multiple values\n",
    "\"\"\"\n",
    "\n",
    "def sequare_point(x,y,z):\n",
    "    x_sequared=x**2\n",
    "    y_sequared=y**2\n",
    "    z_sequared = z**2\n",
    "    return x_sequared,y_sequared,z_sequared\n",
    "    \n",
    "three_sequared, four_sequared, five_sequared= sequare_point(3,4,5)\n",
    "print(three_sequared,four_sequared,five_sequared)"
   ]
  },
  {
   "cell_type": "code",
   "execution_count": 22,
   "id": "5ed394b4-1078-42da-b9bd-32f4a7a095ca",
   "metadata": {},
   "outputs": [
    {
     "name": "stdout",
     "output_type": "stream",
     "text": [
      "hello\n"
     ]
    },
    {
     "ename": "NameError",
     "evalue": "name 'b' is not defined",
     "output_type": "error",
     "traceback": [
      "\u001b[1;31m---------------------------------------------------------------------------\u001b[0m",
      "\u001b[1;31mNameError\u001b[0m                                 Traceback (most recent call last)",
      "\u001b[1;32m<ipython-input-22-4e346d19b21e>\u001b[0m in \u001b[0;36m<module>\u001b[1;34m\u001b[0m\n\u001b[0;32m     10\u001b[0m \u001b[1;33m\u001b[0m\u001b[0m\n\u001b[0;32m     11\u001b[0m \u001b[0mprints_a\u001b[0m\u001b[1;33m(\u001b[0m\u001b[1;33m)\u001b[0m\u001b[1;33m\u001b[0m\u001b[1;33m\u001b[0m\u001b[0m\n\u001b[1;32m---> 12\u001b[1;33m \u001b[0mprint\u001b[0m\u001b[1;33m(\u001b[0m\u001b[0mb\u001b[0m\u001b[1;33m)\u001b[0m\u001b[1;33m\u001b[0m\u001b[1;33m\u001b[0m\u001b[0m\n\u001b[0m",
      "\u001b[1;31mNameError\u001b[0m: name 'b' is not defined"
     ]
    }
   ],
   "source": [
    "\"\"\"\n",
    "G;obal variables\n",
    "\"\"\"\n",
    "\n",
    "\n",
    "\n",
    "def prints_a():\n",
    "    b=\"hello\"\n",
    "    print(b)\n",
    "    \n",
    "prints_a()\n"
   ]
  },
  {
   "cell_type": "code",
   "execution_count": 29,
   "id": "8618318c-a20d-4060-8c22-9d1d4201cd7e",
   "metadata": {},
   "outputs": [
    {
     "name": "stdout",
     "output_type": "stream",
     "text": [
      "Height=1\n",
      "width=2\n",
      "depth=3\n",
      "6\n",
      "Height=2\n",
      "width=1\n",
      "depth=3\n",
      "6\n",
      "Height=1\n",
      "width=2\n",
      "depth=3\n",
      "6\n"
     ]
    }
   ],
   "source": [
    "\"\"\"\n",
    "\n",
    "\"\"\"\n",
    "def findvolume(height,width,depth=3):\n",
    "    print(\"Height=\"+str(height))\n",
    "    print(\"width=\"+str(width))\n",
    "    print(\"depth=\"+str(depth))\n",
    "    return height*width*depth\n",
    "\n",
    "print(findvolume(1,2,3))\n",
    "print(findvolume(2,1,3))\n",
    "print(findvolume(width=2,height=1))"
   ]
  }
 ],
 "metadata": {
  "kernelspec": {
   "display_name": "Python 3",
   "language": "python",
   "name": "python3"
  },
  "language_info": {
   "codemirror_mode": {
    "name": "ipython",
    "version": 3
   },
   "file_extension": ".py",
   "mimetype": "text/x-python",
   "name": "python",
   "nbconvert_exporter": "python",
   "pygments_lexer": "ipython3",
   "version": "3.8.8"
  }
 },
 "nbformat": 4,
 "nbformat_minor": 5
}
