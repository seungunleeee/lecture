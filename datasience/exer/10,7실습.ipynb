{
 "cells": [
  {
   "cell_type": "code",
   "execution_count": 1,
   "id": "7d7ac9f1-d2c7-407a-8e97-89199aba1696",
   "metadata": {},
   "outputs": [
    {
     "ename": "NameError",
     "evalue": "name 'values' is not defined",
     "output_type": "error",
     "traceback": [
      "\u001b[1;31m---------------------------------------------------------------------------\u001b[0m",
      "\u001b[1;31mNameError\u001b[0m                                 Traceback (most recent call last)",
      "\u001b[1;32m<ipython-input-1-1fca3ac9e193>\u001b[0m in \u001b[0;36m<module>\u001b[1;34m\u001b[0m\n\u001b[0;32m      6\u001b[0m         \u001b[1;32mreturn\u001b[0m \u001b[0moutput\u001b[0m\u001b[1;33m\u001b[0m\u001b[1;33m\u001b[0m\u001b[0m\n\u001b[0;32m      7\u001b[0m \u001b[1;33m\u001b[0m\u001b[0m\n\u001b[1;32m----> 8\u001b[1;33m \u001b[0mprint\u001b[0m\u001b[1;33m(\u001b[0m\u001b[0mvalues\u001b[0m\u001b[1;33m)\u001b[0m\u001b[1;33m\u001b[0m\u001b[1;33m\u001b[0m\u001b[0m\n\u001b[0m",
      "\u001b[1;31mNameError\u001b[0m: name 'values' is not defined"
     ]
    }
   ],
   "source": [
    "import numpy as np\n",
    "def compute_reciprocals(values):\n",
    "    output=np.empty(len(values))\n",
    "    for i in range(len(values)):\n",
    "        output[i]=1.0/values[i]\n",
    "        return output\n",
    "    \n",
    "print(values)"
   ]
  },
  {
   "cell_type": "code",
   "execution_count": 4,
   "id": "3f426a5f-f691-4f5a-9a33-420eb82a41a4",
   "metadata": {},
   "outputs": [
    {
     "name": "stdout",
     "output_type": "stream",
     "text": [
      "9.3 µs ± 62.4 ns per loop (mean ± std. dev. of 7 runs, 100000 loops each)\n"
     ]
    }
   ],
   "source": [
    "big_array = np.random.randint(1,100,size=1000000)\n",
    "#jupyter magic function\n",
    "%timeit compute_reciprocals(big_array)"
   ]
  },
  {
   "cell_type": "raw",
   "id": "3daf0e12-155b-491b-8526-cbd431ae472b",
   "metadata": {},
   "source": [
    "%timeit 1/big_array"
   ]
  },
  {
   "cell_type": "code",
   "execution_count": 11,
   "id": "8064aa53-9cf8-416f-9a40-422ae5d22153",
   "metadata": {},
   "outputs": [
    {
     "name": "stdout",
     "output_type": "stream",
     "text": [
      "[5 8 9 5 0] [0 1 7 6 9]\n",
      "[ 3  6  7  3 -2] [0 1 7 6 9]\n",
      "[ 3  7 14  9  7]\n",
      "[[2 4 5 2 4]\n",
      " [2 4 7 7 9]\n",
      " [1 7 0 6 9]]\n",
      "[[ 4 16 25  4 16]\n",
      " [ 4 16 49 49 81]\n",
      " [ 1 49  0 36 81]]\n"
     ]
    }
   ],
   "source": [
    "np.random.seed(1)\n",
    "arr1=np.random.randint(10,size=5)\n",
    "arr2=np.random.randint(10,size=5)\n",
    "print(arr1,arr2)\n",
    "arr1=arr1-2\n",
    "print(arr1,arr2)\n",
    "arr3= arr1+arr2\n",
    "print(arr3)\n",
    "arr4=np.random.randint(10,size=(3,5))\n",
    "print(arr4)\n",
    "arr5=arr4 ** 2\n",
    "print(arr5)\n"
   ]
  },
  {
   "cell_type": "code",
   "execution_count": 13,
   "id": "d35837f5-8fee-43b4-930d-86a9ec004b7a",
   "metadata": {},
   "outputs": [
    {
     "name": "stdout",
     "output_type": "stream",
     "text": [
      "[2 1 0 1 2]\n"
     ]
    }
   ],
   "source": [
    "x=np.array([-2,-1,0,1,2])\n",
    "np.abs(x)\n",
    "print(np.abs(x))"
   ]
  },
  {
   "cell_type": "code",
   "execution_count": null,
   "id": "e5dad85d-70ea-4c7e-a554-b0faaaa26876",
   "metadata": {},
   "outputs": [],
   "source": [
    "np.linspace(start,stop,num)"
   ]
  },
  {
   "cell_type": "code",
   "execution_count": 15,
   "id": "81be82c2-7b6a-414e-92b6-bb339b2b0e44",
   "metadata": {},
   "outputs": [
    {
     "name": "stdout",
     "output_type": "stream",
     "text": [
      "[0.         1.57079633 3.14159265]\n",
      "[0.0000000e+00 1.0000000e+00 1.2246468e-16]\n",
      "[ 1.000000e+00  6.123234e-17 -1.000000e+00]\n",
      "[ 0.00000000e+00  1.63312394e+16 -1.22464680e-16]\n"
     ]
    }
   ],
   "source": [
    "theta=np.linspace(0,np.pi,3)\n",
    "print(theta)\n",
    "print(np.sin(theta))\n",
    "print(np.cos(theta))\n",
    "print(np.tan(theta))\n",
    "\n"
   ]
  },
  {
   "cell_type": "code",
   "execution_count": null,
   "id": "ce9563c9-886c-4817-920c-9259979d24de",
   "metadata": {},
   "outputs": [],
   "source": [
    "x=np.arrange(1,5)\n",
    "print(x)\n",
    "aggr=np.add.reduce(x)\n",
    "print(aggr)\n",
    "aggr=np.multiply.reduce(x)\n",
    "print(aggr)"
   ]
  },
  {
   "cell_type": "code",
   "execution_count": 17,
   "id": "49539686-7967-44ab-8d8b-bbfda0baf6d3",
   "metadata": {},
   "outputs": [
    {
     "name": "stdout",
     "output_type": "stream",
     "text": [
      "[-2 -1  0  1  2]\n",
      "[-2 -3 -3 -2  0]\n"
     ]
    }
   ],
   "source": [
    "print(x)\n",
    "accum=np.add.accumulate(x)\n",
    "\n",
    "print(accum)"
   ]
  },
  {
   "cell_type": "code",
   "execution_count": 20,
   "id": "8b4360ef-aa24-43d8-9ddd-fe568cc9462d",
   "metadata": {},
   "outputs": [
    {
     "name": "stdout",
     "output_type": "stream",
     "text": [
      "[0.5507979  0.70814782 0.29090474 ... 0.93033748 0.80429816 0.47400579]\n",
      "500422.19897015305\n"
     ]
    }
   ],
   "source": [
    "np.random.seed(3)\n",
    "arr=np.random.rand(1000000)#rand():create 0_! nu,ners\n",
    "print(arr)\n",
    "print(np.sum(arr))"
   ]
  },
  {
   "cell_type": "code",
   "execution_count": 21,
   "id": "b33143df-d8d5-4446-bd08-44db95885c21",
   "metadata": {},
   "outputs": [
    {
     "name": "stdout",
     "output_type": "stream",
     "text": [
      "52.2 ms ± 367 µs per loop (mean ± std. dev. of 7 runs, 10 loops each)\n"
     ]
    }
   ],
   "source": [
    "%timeit sum(arr)"
   ]
  },
  {
   "cell_type": "code",
   "execution_count": 22,
   "id": "33fc71ef-e05a-4996-a275-36b12995a807",
   "metadata": {},
   "outputs": [
    {
     "name": "stdout",
     "output_type": "stream",
     "text": [
      "567 µs ± 39.8 µs per loop (mean ± std. dev. of 7 runs, 1000 loops each)\n"
     ]
    }
   ],
   "source": [
    "%timeit np.sum(arr)"
   ]
  },
  {
   "cell_type": "code",
   "execution_count": 26,
   "id": "f8665e9b-56ce-4236-adc9-7665161dee24",
   "metadata": {},
   "outputs": [
    {
     "name": "stdout",
     "output_type": "stream",
     "text": [
      "0.9999996367889004\n",
      "min=, 1.5496004267534502e-06\n",
      "mean= 0.500422198970153\n",
      "median 0.5005659265960778\n",
      "percetile 0.9001765340710965\n",
      "False\n",
      "True\n"
     ]
    }
   ],
   "source": [
    "print(np.max(arr))\n",
    "print(\"min=,\",np.min(arr))\n",
    "print(\"mean=\",np.mean(arr))\n",
    "print(\"median\",np.median(arr))\n",
    "print(\"percetile\",np.percentile(arr,90))\n",
    "print(np.any(arr>1))\n",
    "print(np.all(arr>0))"
   ]
  },
  {
   "cell_type": "code",
   "execution_count": 3,
   "id": "94286212-9470-4c2b-81e7-1c36bc23f0e5",
   "metadata": {},
   "outputs": [
    {
     "name": "stdout",
     "output_type": "stream",
     "text": [
      "[[3 6 6 0]\n",
      " [9 8 4 7]\n",
      " [0 0 7 1]]\n",
      "[12 14 17  8]\n",
      "[15 28  8]\n"
     ]
    }
   ],
   "source": [
    "#다차원 집계\n",
    "np.random.seed(5)\n",
    "arr=np.random.randint(10,size=(3,4))\n",
    "print(arr)\n",
    "\n",
    "print(np.sum(arr,axis=0))\n",
    "print(np.sum(arr,axis=1))\n"
   ]
  }
 ],
 "metadata": {
  "kernelspec": {
   "display_name": "Python 3",
   "language": "python",
   "name": "python3"
  },
  "language_info": {
   "codemirror_mode": {
    "name": "ipython",
    "version": 3
   },
   "file_extension": ".py",
   "mimetype": "text/x-python",
   "name": "python",
   "nbconvert_exporter": "python",
   "pygments_lexer": "ipython3",
   "version": "3.8.8"
  }
 },
 "nbformat": 4,
 "nbformat_minor": 5
}
