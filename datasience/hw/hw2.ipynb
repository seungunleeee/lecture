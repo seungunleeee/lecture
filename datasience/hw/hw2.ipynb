{
 "cells": [
  {
   "cell_type": "markdown",
   "id": "c63f2c50-6267-406e-b1bf-818b7d6acce6",
   "metadata": {},
   "source": [
    "subjects=[\"physics\",\"calculus\",\"poetry\",\"history\"]\n",
    "grade=[98,97,85,88]\n",
    "\n",
    "gradebook=[[subjects[0],grade[0]],[subjects[1],grade[1]],[subjects[2],grade[2]],\n",
    "          [subjects[3],grade[3]]]\n",
    "print(gradebook)\n",
    "gradebook.append([\"computer science\",100])\n",
    "gradebook.append([\"visual arts\",93])\n",
    "print(gradebook)\n",
    "\n",
    "gradebook[5][1]=gradebook[5][1]+5\n",
    "gradebook[2].remove(85)\n",
    "gradebook[2].append(\"pass\")\n",
    "print(gradebook)\n",
    "\n",
    "last_semester_gradebook=[[\"politics\",80],[\"latin\",96],[\"dance\",97],\n",
    "                         [\"architecture\",65]]\n",
    "full_gradebook=gradebook+last_semester_gradebook\n",
    "print(\"결합결과\")\n",
    "print(full_gradebook)"
   ]
  }
 ],
 "metadata": {
  "kernelspec": {
   "display_name": "Python 3",
   "language": "python",
   "name": "python3"
  },
  "language_info": {
   "codemirror_mode": {
    "name": "ipython",
    "version": 3
   },
   "file_extension": ".py",
   "mimetype": "text/x-python",
   "name": "python",
   "nbconvert_exporter": "python",
   "pygments_lexer": "ipython3",
   "version": "3.8.8"
  }
 },
 "nbformat": 4,
 "nbformat_minor": 5
}
