{
 "cells": [
  {
   "cell_type": "code",
   "execution_count": 43,
   "id": "3515bdee-aa5e-451d-aa11-202ea802ab99",
   "metadata": {},
   "outputs": [
    {
     "name": "stdout",
     "output_type": "stream",
     "text": [
      "   order               name  height(cm)\n",
      "0      1  George Washington         189\n",
      "1      2         John Adams         170\n",
      "2      3   Thomas Jefferson         189\n",
      "3      4      James Madison         163\n",
      "4      5       James Monroe         183\n",
      "[189 170 189 163 183 171 185 168 173 183 173 173 175 178 183 193 178 173\n",
      " 174 183 183 168 170 178 182 180 183 178 182 188 175 179 183 193 182 183\n",
      " 177 185 188 188 182 185]\n",
      "mean height= 179.73809523809524\n",
      "stadard deviation= 6.931843442745892\n",
      "minimum height= 163\n",
      "maximum height= 193\n",
      "25th percentile= 174.25\n",
      "median = 182.0\n",
      "75th percentile= 183.0\n",
      "15\n",
      "3\n",
      "The tallest president is Abraham Lincoln\n",
      "The smallest president is James Madison\n"
     ]
    },
    {
     "data": {
      "image/png": "[encoded data removed]",
      "text/plain": [
       "<Figure size 432x288 with 1 Axes>"
      ]
     },
     "metadata": {},
     "output_type": "display_data"
    }
   ],
   "source": [
    "import pandas as pd\n",
    "import numpy as np\n",
    "\n",
    "data = pd.read_csv('C:/Users/evan8/data/president_height.csv')\n",
    "print(data.head())\n",
    "\n",
    "heights= np.array(data['height(cm)'])\n",
    "print(heights)\n",
    "\n",
    "print(\"mean height=\",np.mean(heights))\n",
    "print(\"stadard deviation=\",np.std(heights))\n",
    "print(\"minimum height=\",np.min(heights))\n",
    "print(\"maximum height=\", np.max(heights))\n",
    "print(\"25th percentile=\", np.percentile(heights,25))\n",
    "print(\"median =\",np.median(heights))\n",
    "print(\"75th percentile=\",np.percentile(heights,75))\n",
    "max_idx=np.argmax(heights)\n",
    "min_idx=np.argmin(heights)\n",
    "print(max_idx)\n",
    "print(min_idx)\n",
    "\n",
    "max_name = data.iloc[max_idx]['name']\n",
    "min_name = data.iloc[min_idx]['name']\n",
    "\n",
    "print(\"The tallest president is\", max_name)\n",
    "print(\"The smallest president is\", min_name)\n",
    "\n",
    "from matplotlib import pyplot as plt\n",
    "import seaborn\n",
    "\n",
    "%matplotlib inline\n",
    "%config Inlinebackend.figure_format='svg'\n",
    "seaborn.set()\n",
    "\n",
    "plt.hist(heights)\n",
    "plt.title('height Distribution of Us President')\n",
    "plt.xlabel('height (cm)')\n",
    "plt.ylabel('number')\n",
    "plt.show()"
   ]
  }
 ],
 "metadata": {
  "kernelspec": {
   "display_name": "Python 3",
   "language": "python",
   "name": "python3"
  },
  "language_info": {
   "codemirror_mode": {
    "name": "ipython",
    "version": 3
   },
   "file_extension": ".py",
   "mimetype": "text/x-python",
   "name": "python",
   "nbconvert_exporter": "python",
   "pygments_lexer": "ipython3",
   "version": "3.8.8"
  }
 },
 "nbformat": 4,
 "nbformat_minor": 5
}
