hairstyles=["bouffant","pixie","dreadlocks","crew","bowl","bob","mohawk","falttop"]
prices=[30,25,40,20,20,35,50,35]
last_week=[2,3,5,8,4,4,6,2]
total_prices=0;
for i in prices:
    total_prices+=i
average_price=total_prices/len(prices)
print(average_price)

new_prices=[i-5 for i in prices]
print(new_prices)
total_revenue=0
i=0
for i in range(len(hairstyles)):
    total_revenue+=prices[i]*last_week[i]
print(total_revenue)
average_daily_avenue=total_revenue/7
print(average_daily_avenue)
cuts_under_30=[hairstyles[i] for i in range(len(hairstyles)-1) if new_prices[i]<30]
print(cuts_under_30)
