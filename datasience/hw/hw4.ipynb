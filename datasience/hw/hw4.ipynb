month=['쌍','쇠','복','돌','팽','육','쌍','개','칠','갑','삼','망']
day=['봉', '구', '욕', '포', '똥', '삼', '식', '석', '놈', '님', '년', '돌', '단', '득', '방', '질', '장', '걸', '래', '룡', '동', '순', '자', '박', '창', '언', '것', '포', '만', '단', '국']

def get_my_chosun_name(familyname,brmonth,brday):
    print("당신의 조선시대 이름은 "+familyname+month[brmonth]+day[brday]+"입니다.")

get_my_chosun_name('이',8,25)
