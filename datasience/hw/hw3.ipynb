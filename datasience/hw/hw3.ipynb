{
 "cells": [
  {
   "cell_type": "code",
   "execution_count": 19,
   "id": "b03dbcd1-4442-4636-ac2f-68a8d728d42d",
   "metadata": {},
   "outputs": [
    {
     "name": "stdout",
     "output_type": "stream",
     "text": [
      "31.875\n",
      "[25, 20, 35, 15, 15, 30, 45, 30]\n",
      "1085\n",
      "155.0\n",
      "['bouffant', 'pixie', 'crew', 'bowl']\n"
     ]
    }
   ],
   "source": [
    "hairstyles=[\"bouffant\",\"pixie\",\"dreadlocks\",\"crew\",\"bowl\",\"bob\",\"mohawk\",\"falttop\"]\n",
    "prices=[30,25,40,20,20,35,50,35]\n",
    "last_week=[2,3,5,8,4,4,6,2]\n",
    "total_prices=0;\n",
    "for i in prices:\n",
    "    total_prices+=i\n",
    "average_price=total_prices/len(prices)\n",
    "print(average_price)\n",
    "\n",
    "new_prices=[i-5 for i in prices]\n",
    "print(new_prices)\n",
    "total_revenue=0\n",
    "i=0\n",
    "for i in range(len(hairstyles)):\n",
    "    total_revenue+=prices[i]*last_week[i]\n",
    "print(total_revenue)\n",
    "average_daily_avenue=total_revenue/7\n",
    "print(average_daily_avenue)\n",
    "cuts_under_30=[hairstyles[i] for i in range(len(hairstyles)-1) if new_prices[i]<30]\n",
    "print(cuts_under_30)"
   ]
  }
 ],
 "metadata": {
  "kernelspec": {
   "display_name": "Python 3",
   "language": "python",
   "name": "python3"
  },
  "language_info": {
   "codemirror_mode": {
    "name": "ipython",
    "version": 3
   },
   "file_extension": ".py",
   "mimetype": "text/x-python",
   "name": "python",
   "nbconvert_exporter": "python",
   "pygments_lexer": "ipython3",
   "version": "3.8.8"
  }
 },
 "nbformat": 4,
 "nbformat_minor": 5
}
